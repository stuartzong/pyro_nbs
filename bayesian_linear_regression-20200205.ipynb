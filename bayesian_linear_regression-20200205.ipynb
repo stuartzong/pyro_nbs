{
 "cells": [
  {
   "cell_type": "code",
   "execution_count": 1,
   "metadata": {},
   "outputs": [],
   "source": [
    "%reset -s -f"
   ]
  },
  {
   "cell_type": "code",
   "execution_count": 18,
   "metadata": {},
   "outputs": [],
   "source": [
    "import os\n",
    "from functools import partial\n",
    "import torch\n",
    "import numpy as np\n",
    "import pandas as pd\n",
    "import seaborn as sns\n",
    "import matplotlib.pyplot as plt\n",
    "\n",
    "import pyro\n",
    "import pyro.distributions as dist\n",
    "\n",
    "# for CI testing\n",
    "smoke_test = ('CI' in os.environ)\n",
    "assert pyro.__version__.startswith('1.2.1')\n",
    "pyro.enable_validation(True)\n",
    "pyro.set_rng_seed(1)\n",
    "pyro.enable_validation(True)\n",
    "\n",
    "\n",
    "# Set matplotlib settings\n",
    "%matplotlib inline\n",
    "plt.style.use('default')\n",
    "\n",
    "from IPython.core.interactiveshell import InteractiveShell\n",
    "InteractiveShell.ast_node_interactivity = \"all\""
   ]
  },
  {
   "cell_type": "code",
   "execution_count": 22,
   "metadata": {},
   "outputs": [
    {
     "data": {
      "text/html": [
       "<div>\n",
       "<style scoped>\n",
       "    .dataframe tbody tr th:only-of-type {\n",
       "        vertical-align: middle;\n",
       "    }\n",
       "\n",
       "    .dataframe tbody tr th {\n",
       "        vertical-align: top;\n",
       "    }\n",
       "\n",
       "    .dataframe thead th {\n",
       "        text-align: right;\n",
       "    }\n",
       "</style>\n",
       "<table border=\"1\" class=\"dataframe\">\n",
       "  <thead>\n",
       "    <tr style=\"text-align: right;\">\n",
       "      <th></th>\n",
       "      <th>cont_africa</th>\n",
       "      <th>rugged</th>\n",
       "      <th>rgdppc_2000</th>\n",
       "    </tr>\n",
       "  </thead>\n",
       "  <tbody>\n",
       "    <tr>\n",
       "      <th>0</th>\n",
       "      <td>0</td>\n",
       "      <td>0.462</td>\n",
       "      <td>NaN</td>\n",
       "    </tr>\n",
       "    <tr>\n",
       "      <th>1</th>\n",
       "      <td>0</td>\n",
       "      <td>2.518</td>\n",
       "      <td>NaN</td>\n",
       "    </tr>\n",
       "  </tbody>\n",
       "</table>\n",
       "</div>"
      ],
      "text/plain": [
       "   cont_africa  rugged  rgdppc_2000\n",
       "0            0   0.462          NaN\n",
       "1            0   2.518          NaN"
      ]
     },
     "execution_count": 22,
     "metadata": {},
     "output_type": "execute_result"
    },
    {
     "data": {
      "text/html": [
       "<div>\n",
       "<style scoped>\n",
       "    .dataframe tbody tr th:only-of-type {\n",
       "        vertical-align: middle;\n",
       "    }\n",
       "\n",
       "    .dataframe tbody tr th {\n",
       "        vertical-align: top;\n",
       "    }\n",
       "\n",
       "    .dataframe thead th {\n",
       "        text-align: right;\n",
       "    }\n",
       "</style>\n",
       "<table border=\"1\" class=\"dataframe\">\n",
       "  <thead>\n",
       "    <tr style=\"text-align: right;\">\n",
       "      <th></th>\n",
       "      <th>cont_africa</th>\n",
       "      <th>rugged</th>\n",
       "      <th>rgdppc_2000</th>\n",
       "    </tr>\n",
       "  </thead>\n",
       "  <tbody>\n",
       "    <tr>\n",
       "      <th>2</th>\n",
       "      <td>1</td>\n",
       "      <td>0.858</td>\n",
       "      <td>1794.729</td>\n",
       "    </tr>\n",
       "    <tr>\n",
       "      <th>4</th>\n",
       "      <td>0</td>\n",
       "      <td>3.427</td>\n",
       "      <td>3703.113</td>\n",
       "    </tr>\n",
       "  </tbody>\n",
       "</table>\n",
       "</div>"
      ],
      "text/plain": [
       "   cont_africa  rugged  rgdppc_2000\n",
       "2            1   0.858     1794.729\n",
       "4            0   3.427     3703.113"
      ]
     },
     "execution_count": 22,
     "metadata": {},
     "output_type": "execute_result"
    },
    {
     "data": {
      "text/html": [
       "<div>\n",
       "<style scoped>\n",
       "    .dataframe tbody tr th:only-of-type {\n",
       "        vertical-align: middle;\n",
       "    }\n",
       "\n",
       "    .dataframe tbody tr th {\n",
       "        vertical-align: top;\n",
       "    }\n",
       "\n",
       "    .dataframe thead th {\n",
       "        text-align: right;\n",
       "    }\n",
       "</style>\n",
       "<table border=\"1\" class=\"dataframe\">\n",
       "  <thead>\n",
       "    <tr style=\"text-align: right;\">\n",
       "      <th></th>\n",
       "      <th>cont_africa</th>\n",
       "      <th>rugged</th>\n",
       "      <th>rgdppc_2000</th>\n",
       "    </tr>\n",
       "  </thead>\n",
       "  <tbody>\n",
       "    <tr>\n",
       "      <th>2</th>\n",
       "      <td>1</td>\n",
       "      <td>0.858</td>\n",
       "      <td>7.492609</td>\n",
       "    </tr>\n",
       "    <tr>\n",
       "      <th>4</th>\n",
       "      <td>0</td>\n",
       "      <td>3.427</td>\n",
       "      <td>8.216929</td>\n",
       "    </tr>\n",
       "  </tbody>\n",
       "</table>\n",
       "</div>"
      ],
      "text/plain": [
       "   cont_africa  rugged  rgdppc_2000\n",
       "2            1   0.858     7.492609\n",
       "4            0   3.427     8.216929"
      ]
     },
     "execution_count": 22,
     "metadata": {},
     "output_type": "execute_result"
    }
   ],
   "source": [
    "DATA_URL = \"https://d2hg8soec8ck9v.cloudfront.net/datasets/rugged_data.csv\"\n",
    "data = pd.read_csv(DATA_URL, encoding=\"ISO-8859-1\")\n",
    "df = data[[\"cont_africa\", \"rugged\", \"rgdppc_2000\"]]\n",
    "df.head(2)\n",
    "df = df[np.isfinite(df.rgdppc_2000)]\n",
    "df.head(2)\n",
    "df[\"rgdppc_2000\"] = np.log(df[\"rgdppc_2000\"])\n",
    "df.head(2)"
   ]
  },
  {
   "cell_type": "code",
   "execution_count": 24,
   "metadata": {},
   "outputs": [
    {
     "data": {
      "image/png": "[encoded data removed]",
      "text/plain": [
       "<Figure size 1200x600 with 2 Axes>"
      ]
     },
     "metadata": {},
     "output_type": "display_data"
    }
   ],
   "source": [
    "\n",
    "fig, ax = plt.subplots(nrows=1, ncols=2, figsize=(12, 6), sharey=True)\n",
    "african_nations = df[df[\"cont_africa\"] == 1]\n",
    "non_african_nations = df[df[\"cont_africa\"] == 0]\n",
    "sns.scatterplot(non_african_nations[\"rugged\"],\n",
    "            non_african_nations[\"rgdppc_2000\"],\n",
    "            ax=ax[0])\n",
    "ax[0].set(xlabel=\"Terrain Ruggedness Index\",\n",
    "          ylabel=\"log GDP (2000)\",\n",
    "          title=\"Non African Nations\")\n",
    "sns.scatterplot(african_nations[\"rugged\"],\n",
    "                african_nations[\"rgdppc_2000\"],\n",
    "                ax=ax[1])\n",
    "ax[1].set(xlabel=\"Terrain Ruggedness Index\",\n",
    "          ylabel=\"log GDP (2000)\",\n",
    "          title=\"African Nations\");"
   ]
  },
  {
   "cell_type": "code",
   "execution_count": 25,
   "metadata": {},
   "outputs": [],
   "source": [
    "from torch import nn\n",
    "from pyro.nn import PyroModule\n",
    "\n",
    "assert issubclass(PyroModule[nn.Linear], nn.Linear)\n",
    "assert issubclass(PyroModule[nn.Linear], PyroModule)"
   ]
  },
  {
   "cell_type": "code",
   "execution_count": 26,
   "metadata": {},
   "outputs": [
    {
     "name": "stdout",
     "output_type": "stream",
     "text": [
      "[iteration 0050] loss: 3179.7852\n",
      "[iteration 0100] loss: 1616.1372\n",
      "[iteration 0150] loss: 1109.4120\n",
      "[iteration 0200] loss: 833.7545\n",
      "[iteration 0250] loss: 637.5822\n",
      "[iteration 0300] loss: 488.2652\n",
      "[iteration 0350] loss: 376.4650\n",
      "[iteration 0400] loss: 296.0484\n",
      "[iteration 0450] loss: 240.6140\n",
      "[iteration 0500] loss: 203.9386\n",
      "[iteration 0550] loss: 180.6171\n",
      "[iteration 0600] loss: 166.3494\n",
      "[iteration 0650] loss: 157.9457\n",
      "[iteration 0700] loss: 153.1786\n",
      "[iteration 0750] loss: 150.5735\n",
      "[iteration 0800] loss: 149.2020\n",
      "[iteration 0850] loss: 148.5065\n",
      "[iteration 0900] loss: 148.1668\n",
      "[iteration 0950] loss: 148.0070\n",
      "[iteration 1000] loss: 147.9347\n",
      "[iteration 1050] loss: 147.9032\n",
      "[iteration 1100] loss: 147.8900\n",
      "[iteration 1150] loss: 147.8847\n",
      "[iteration 1200] loss: 147.8827\n",
      "[iteration 1250] loss: 147.8819\n",
      "[iteration 1300] loss: 147.8817\n",
      "[iteration 1350] loss: 147.8815\n",
      "[iteration 1400] loss: 147.8815\n",
      "[iteration 1450] loss: 147.8815\n",
      "[iteration 1500] loss: 147.8815\n",
      "Learned parameters:\n",
      "weight [[-1.9478592  -0.20278624  0.39330277]]\n",
      "bias [9.22308]\n"
     ]
    }
   ],
   "source": [
    "# Dataset: Add a feature to capture the interaction between \"cont_africa\" and \"rugged\"\n",
    "df[\"cont_africa_x_rugged\"] = df[\"cont_africa\"] * df[\"rugged\"]\n",
    "data = torch.tensor(df[[\"cont_africa\", \"rugged\", \"cont_africa_x_rugged\", \"rgdppc_2000\"]].values,\n",
    "                        dtype=torch.float)\n",
    "x_data, y_data = data[:, :-1], data[:, -1]\n",
    "\n",
    "# Regression model\n",
    "linear_reg_model = PyroModule[nn.Linear](3, 1)\n",
    "\n",
    "# Define loss and optimize\n",
    "loss_fn = torch.nn.MSELoss(reduction='sum')\n",
    "optim = torch.optim.Adam(linear_reg_model.parameters(), lr=0.05)\n",
    "num_iterations = 1500 if not smoke_test else 2\n",
    "\n",
    "def train():\n",
    "    # run the model forward on the data\n",
    "    y_pred = linear_reg_model(x_data).squeeze(-1)\n",
    "    # calculate the mse loss\n",
    "    loss = loss_fn(y_pred, y_data)\n",
    "    # initialize gradients to zero\n",
    "    optim.zero_grad()\n",
    "    # backpropagate\n",
    "    loss.backward()\n",
    "    # take a gradient step\n",
    "    optim.step()\n",
    "    return loss\n",
    "\n",
    "for j in range(num_iterations):\n",
    "    loss = train()\n",
    "    if (j + 1) % 50 == 0:\n",
    "        print(\"[iteration %04d] loss: %.4f\" % (j + 1, loss.item()))\n",
    "\n",
    "\n",
    "# Inspect learned parameters\n",
    "print(\"Learned parameters:\")\n",
    "for name, param in linear_reg_model.named_parameters():\n",
    "    print(name, param.data.numpy())"
   ]
  },
  {
   "cell_type": "code",
   "execution_count": 27,
   "metadata": {},
   "outputs": [
    {
     "data": {
      "text/html": [
       "<div>\n",
       "<style scoped>\n",
       "    .dataframe tbody tr th:only-of-type {\n",
       "        vertical-align: middle;\n",
       "    }\n",
       "\n",
       "    .dataframe tbody tr th {\n",
       "        vertical-align: top;\n",
       "    }\n",
       "\n",
       "    .dataframe thead th {\n",
       "        text-align: right;\n",
       "    }\n",
       "</style>\n",
       "<table border=\"1\" class=\"dataframe\">\n",
       "  <thead>\n",
       "    <tr style=\"text-align: right;\">\n",
       "      <th></th>\n",
       "      <th>cont_africa</th>\n",
       "      <th>rugged</th>\n",
       "      <th>rgdppc_2000</th>\n",
       "      <th>cont_africa_x_rugged</th>\n",
       "      <th>mean</th>\n",
       "    </tr>\n",
       "  </thead>\n",
       "  <tbody>\n",
       "    <tr>\n",
       "      <th>2</th>\n",
       "      <td>1</td>\n",
       "      <td>0.858</td>\n",
       "      <td>7.492609</td>\n",
       "      <td>0.858</td>\n",
       "      <td>7.438684</td>\n",
       "    </tr>\n",
       "    <tr>\n",
       "      <th>4</th>\n",
       "      <td>0</td>\n",
       "      <td>3.427</td>\n",
       "      <td>8.216929</td>\n",
       "      <td>0.000</td>\n",
       "      <td>8.528131</td>\n",
       "    </tr>\n",
       "    <tr>\n",
       "      <th>7</th>\n",
       "      <td>0</td>\n",
       "      <td>0.769</td>\n",
       "      <td>9.933263</td>\n",
       "      <td>0.000</td>\n",
       "      <td>9.067137</td>\n",
       "    </tr>\n",
       "    <tr>\n",
       "      <th>8</th>\n",
       "      <td>0</td>\n",
       "      <td>0.775</td>\n",
       "      <td>9.407032</td>\n",
       "      <td>0.000</td>\n",
       "      <td>9.065920</td>\n",
       "    </tr>\n",
       "    <tr>\n",
       "      <th>9</th>\n",
       "      <td>0</td>\n",
       "      <td>2.688</td>\n",
       "      <td>7.792343</td>\n",
       "      <td>0.000</td>\n",
       "      <td>8.677990</td>\n",
       "    </tr>\n",
       "    <tr>\n",
       "      <th>...</th>\n",
       "      <td>...</td>\n",
       "      <td>...</td>\n",
       "      <td>...</td>\n",
       "      <td>...</td>\n",
       "      <td>...</td>\n",
       "    </tr>\n",
       "    <tr>\n",
       "      <th>229</th>\n",
       "      <td>0</td>\n",
       "      <td>1.677</td>\n",
       "      <td>8.488849</td>\n",
       "      <td>0.000</td>\n",
       "      <td>8.883007</td>\n",
       "    </tr>\n",
       "    <tr>\n",
       "      <th>230</th>\n",
       "      <td>0</td>\n",
       "      <td>2.323</td>\n",
       "      <td>6.669180</td>\n",
       "      <td>0.000</td>\n",
       "      <td>8.752007</td>\n",
       "    </tr>\n",
       "    <tr>\n",
       "      <th>231</th>\n",
       "      <td>1</td>\n",
       "      <td>1.761</td>\n",
       "      <td>9.150497</td>\n",
       "      <td>1.761</td>\n",
       "      <td>7.610720</td>\n",
       "    </tr>\n",
       "    <tr>\n",
       "      <th>232</th>\n",
       "      <td>1</td>\n",
       "      <td>0.533</td>\n",
       "      <td>6.651585</td>\n",
       "      <td>0.533</td>\n",
       "      <td>7.376766</td>\n",
       "    </tr>\n",
       "    <tr>\n",
       "      <th>233</th>\n",
       "      <td>1</td>\n",
       "      <td>1.194</td>\n",
       "      <td>7.823732</td>\n",
       "      <td>1.194</td>\n",
       "      <td>7.502697</td>\n",
       "    </tr>\n",
       "  </tbody>\n",
       "</table>\n",
       "<p>170 rows × 5 columns</p>\n",
       "</div>"
      ],
      "text/plain": [
       "     cont_africa  rugged  rgdppc_2000  cont_africa_x_rugged      mean\n",
       "2              1   0.858     7.492609                 0.858  7.438684\n",
       "4              0   3.427     8.216929                 0.000  8.528131\n",
       "7              0   0.769     9.933263                 0.000  9.067137\n",
       "8              0   0.775     9.407032                 0.000  9.065920\n",
       "9              0   2.688     7.792343                 0.000  8.677990\n",
       "..           ...     ...          ...                   ...       ...\n",
       "229            0   1.677     8.488849                 0.000  8.883007\n",
       "230            0   2.323     6.669180                 0.000  8.752007\n",
       "231            1   1.761     9.150497                 1.761  7.610720\n",
       "232            1   0.533     6.651585                 0.533  7.376766\n",
       "233            1   1.194     7.823732                 1.194  7.502697\n",
       "\n",
       "[170 rows x 5 columns]"
      ]
     },
     "execution_count": 27,
     "metadata": {},
     "output_type": "execute_result"
    }
   ],
   "source": [
    "fit = df.copy()\n",
    "fit[\"mean\"] = linear_reg_model(x_data).detach().cpu().numpy()\n",
    "fit"
   ]
  },
  {
   "cell_type": "code",
   "execution_count": 8,
   "metadata": {},
   "outputs": [
    {
     "data": {
      "image/png": "[encoded data removed]",
      "text/plain": [
       "<Figure size 1200x600 with 2 Axes>"
      ]
     },
     "metadata": {},
     "output_type": "display_data"
    }
   ],
   "source": [
    "fig, ax = plt.subplots(nrows=1, ncols=2, figsize=(12, 6), sharey=True)\n",
    "african_nations = fit[fit[\"cont_africa\"] == 1]\n",
    "non_african_nations = fit[fit[\"cont_africa\"] == 0]\n",
    "fig.suptitle(\"Regression Fit\", fontsize=16)\n",
    "ax[0].plot(non_african_nations[\"rugged\"], non_african_nations[\"rgdppc_2000\"], \"o\")\n",
    "ax[0].plot(non_african_nations[\"rugged\"], non_african_nations[\"mean\"], linewidth=2)\n",
    "ax[0].set(xlabel=\"Terrain Ruggedness Index\",\n",
    "          ylabel=\"log GDP (2000)\",\n",
    "          title=\"Non African Nations\")\n",
    "ax[1].plot(african_nations[\"rugged\"], african_nations[\"rgdppc_2000\"], \"o\")\n",
    "ax[1].plot(african_nations[\"rugged\"], african_nations[\"mean\"], linewidth=2)\n",
    "ax[1].set(xlabel=\"Terrain Ruggedness Index\",\n",
    "          ylabel=\"log GDP (2000)\",\n",
    "          title=\"African Nations\");"
   ]
  },
  {
   "cell_type": "code",
   "execution_count": 28,
   "metadata": {},
   "outputs": [],
   "source": [
    "from pyro.nn import PyroSample\n",
    "\n",
    "\n",
    "class BayesianRegression(PyroModule):\n",
    "    def __init__(self, in_features, out_features):\n",
    "        super().__init__()\n",
    "        self.linear = PyroModule[nn.Linear](in_features, out_features)\n",
    "        self.linear.weight = PyroSample(dist.Normal(0., 1.).expand([out_features, in_features]).to_event(2))\n",
    "        self.linear.bias = PyroSample(dist.Normal(0., 10.).expand([out_features]).to_event(1))\n",
    "\n",
    "    def forward(self, x, y=None):\n",
    "        sigma = pyro.sample(\"sigma\", dist.Uniform(0., 10.))\n",
    "        mean = self.linear(x).squeeze(-1)\n",
    "        with pyro.plate(\"data\", x.shape[0]):\n",
    "            obs = pyro.sample(\"obs\", dist.Normal(mean, sigma), obs=y)"
   ]
  },
  {
   "cell_type": "code",
   "execution_count": 33,
   "metadata": {},
   "outputs": [
    {
     "data": {
      "text/plain": [
       "torch.Size([170, 3])"
      ]
     },
     "execution_count": 33,
     "metadata": {},
     "output_type": "execute_result"
    },
    {
     "data": {
      "text/plain": [
       "torch.Size([170])"
      ]
     },
     "execution_count": 33,
     "metadata": {},
     "output_type": "execute_result"
    }
   ],
   "source": [
    "x_data.shape\n",
    "y_data.shape"
   ]
  },
  {
   "cell_type": "code",
   "execution_count": 34,
   "metadata": {},
   "outputs": [],
   "source": [
    "from pyro.infer.autoguide import AutoDiagonalNormal\n",
    "\n",
    "model = BayesianRegression(3, 1)\n",
    "guide = AutoDiagonalNormal(model)"
   ]
  },
  {
   "cell_type": "code",
   "execution_count": 36,
   "metadata": {},
   "outputs": [],
   "source": [
    "from pyro.infer import SVI, Trace_ELBO\n",
    "\n",
    "adam = pyro.optim.Adam({\"lr\": 0.03})\n",
    "svi = SVI(model, guide, adam, loss=Trace_ELBO())"
   ]
  },
  {
   "cell_type": "code",
   "execution_count": 37,
   "metadata": {},
   "outputs": [
    {
     "name": "stdout",
     "output_type": "stream",
     "text": [
      "[iteration 0001] loss: 6.2310\n",
      "[iteration 0101] loss: 3.5253\n",
      "[iteration 0201] loss: 3.2347\n",
      "[iteration 0301] loss: 3.0890\n",
      "[iteration 0401] loss: 2.6377\n",
      "[iteration 0501] loss: 2.0626\n",
      "[iteration 0601] loss: 1.4852\n",
      "[iteration 0701] loss: 1.4631\n",
      "[iteration 0801] loss: 1.4632\n",
      "[iteration 0901] loss: 1.4592\n",
      "[iteration 1001] loss: 1.4940\n",
      "[iteration 1101] loss: 1.4988\n",
      "[iteration 1201] loss: 1.4938\n",
      "[iteration 1301] loss: 1.4679\n",
      "[iteration 1401] loss: 1.4581\n"
     ]
    }
   ],
   "source": [
    "pyro.clear_param_store()\n",
    "for j in range(num_iterations):\n",
    "    # calculate the loss and take a gradient step\n",
    "    loss = svi.step(x_data, y_data)\n",
    "    if j % 100 == 0:\n",
    "        print(\"[iteration %04d] loss: %.4f\" % (j + 1, loss / len(data)))"
   ]
  },
  {
   "cell_type": "code",
   "execution_count": 39,
   "metadata": {},
   "outputs": [
    {
     "data": {
      "text/plain": [
       "AutoDiagonalNormal()"
      ]
     },
     "execution_count": 39,
     "metadata": {},
     "output_type": "execute_result"
    },
    {
     "name": "stdout",
     "output_type": "stream",
     "text": [
      "xxx AutoDiagonalNormal.loc Parameter containing:\n",
      "tensor([-2.2371, -1.8097, -0.1691,  0.3791,  9.1823])\n",
      "xxx AutoDiagonalNormal.scale tensor([0.0551, 0.1142, 0.0387, 0.0769, 0.0702])\n"
     ]
    }
   ],
   "source": [
    "guide.requires_grad_(False)\n",
    "\n",
    "for name, value in pyro.get_param_store().items():\n",
    "    print('xxx', name, pyro.param(name))"
   ]
  },
  {
   "cell_type": "code",
   "execution_count": 40,
   "metadata": {},
   "outputs": [
    {
     "data": {
      "text/plain": [
       "{'sigma': [tensor(0.9328), tensor(0.9647), tensor(0.9976)],\n",
       " 'linear.weight': [tensor([[-1.8868, -0.1952,  0.3272]]),\n",
       "  tensor([[-1.8097, -0.1691,  0.3791]]),\n",
       "  tensor([[-1.7327, -0.1429,  0.4309]])],\n",
       " 'linear.bias': [tensor([9.1350]), tensor([9.1823]), tensor([9.2297])]}"
      ]
     },
     "execution_count": 40,
     "metadata": {},
     "output_type": "execute_result"
    }
   ],
   "source": [
    "guide.quantiles([0.25, 0.5, 0.75])"
   ]
  },
  {
   "cell_type": "code",
   "execution_count": 42,
   "metadata": {},
   "outputs": [
    {
     "data": {
      "text/plain": [
       "{'sigma': tensor(0.9647),\n",
       " 'linear.weight': tensor([[-1.8097, -0.1691,  0.3791]]),\n",
       " 'linear.bias': tensor([9.1823])}"
      ]
     },
     "execution_count": 42,
     "metadata": {},
     "output_type": "execute_result"
    }
   ],
   "source": [
    "guide.median()"
   ]
  },
  {
   "cell_type": "code",
   "execution_count": 48,
   "metadata": {},
   "outputs": [
    {
     "data": {
      "text/plain": [
       "tensor([[1.0000, 0.8580, 0.8580],\n",
       "        [0.0000, 3.4270, 0.0000]])"
      ]
     },
     "execution_count": 48,
     "metadata": {},
     "output_type": "execute_result"
    },
    {
     "data": {
      "text/plain": [
       "torch.Size([170, 3])"
      ]
     },
     "execution_count": 48,
     "metadata": {},
     "output_type": "execute_result"
    }
   ],
   "source": [
    "x_data[:2]\n",
    "x_data.shape"
   ]
  },
  {
   "cell_type": "code",
   "execution_count": 62,
   "metadata": {},
   "outputs": [
    {
     "ename": "TypeError",
     "evalue": "expected Tensor as element 0 in argument 0, but got NoneType",
     "output_type": "error",
     "traceback": [
      "\u001b[0;31m---------------------------------------------------------------------------\u001b[0m",
      "\u001b[0;31mTypeError\u001b[0m                                 Traceback (most recent call last)",
      "\u001b[0;32m<ipython-input-62-941856847890>\u001b[0m in \u001b[0;36m<module>\u001b[0;34m\u001b[0m\n\u001b[1;32m     15\u001b[0m \u001b[0mpredictive\u001b[0m \u001b[0;34m=\u001b[0m \u001b[0mPredictive\u001b[0m\u001b[0;34m(\u001b[0m\u001b[0mmodel\u001b[0m\u001b[0;34m,\u001b[0m \u001b[0mguide\u001b[0m\u001b[0;34m=\u001b[0m\u001b[0mguide\u001b[0m\u001b[0;34m,\u001b[0m \u001b[0mnum_samples\u001b[0m\u001b[0;34m=\u001b[0m\u001b[0;36m800\u001b[0m\u001b[0;34m,\u001b[0m \u001b[0mreturn_sites\u001b[0m\u001b[0;34m=\u001b[0m\u001b[0;34m(\u001b[0m\u001b[0;34m\"linear.weight\"\u001b[0m\u001b[0;34m,\u001b[0m \u001b[0;34m\"obs\"\u001b[0m\u001b[0;34m,\u001b[0m \u001b[0;34m\"_RETURN\"\u001b[0m\u001b[0;34m)\u001b[0m\u001b[0;34m)\u001b[0m\u001b[0;34m\u001b[0m\u001b[0;34m\u001b[0m\u001b[0m\n\u001b[1;32m     16\u001b[0m \u001b[0;31m#                         return_sites=(\"linear.weight\", \"obs\", \"_RETURN\"))\u001b[0m\u001b[0;34m\u001b[0m\u001b[0;34m\u001b[0m\u001b[0;34m\u001b[0m\u001b[0m\n\u001b[0;32m---> 17\u001b[0;31m \u001b[0msamples\u001b[0m \u001b[0;34m=\u001b[0m \u001b[0mpredictive\u001b[0m\u001b[0;34m(\u001b[0m\u001b[0mx_data\u001b[0m\u001b[0;34m)\u001b[0m\u001b[0;34m\u001b[0m\u001b[0;34m\u001b[0m\u001b[0m\n\u001b[0m\u001b[1;32m     18\u001b[0m \u001b[0mpred_summary\u001b[0m \u001b[0;34m=\u001b[0m \u001b[0msummary\u001b[0m\u001b[0;34m(\u001b[0m\u001b[0msamples\u001b[0m\u001b[0;34m)\u001b[0m\u001b[0;34m\u001b[0m\u001b[0;34m\u001b[0m\u001b[0m\n",
      "\u001b[0;32m/projects/da_workspace/software/miniconda/envs/pyro/lib/python3.7/site-packages/torch/nn/modules/module.py\u001b[0m in \u001b[0;36m__call__\u001b[0;34m(self, *input, **kwargs)\u001b[0m\n\u001b[1;32m    530\u001b[0m             \u001b[0mresult\u001b[0m \u001b[0;34m=\u001b[0m \u001b[0mself\u001b[0m\u001b[0;34m.\u001b[0m\u001b[0m_slow_forward\u001b[0m\u001b[0;34m(\u001b[0m\u001b[0;34m*\u001b[0m\u001b[0minput\u001b[0m\u001b[0;34m,\u001b[0m \u001b[0;34m**\u001b[0m\u001b[0mkwargs\u001b[0m\u001b[0;34m)\u001b[0m\u001b[0;34m\u001b[0m\u001b[0;34m\u001b[0m\u001b[0m\n\u001b[1;32m    531\u001b[0m         \u001b[0;32melse\u001b[0m\u001b[0;34m:\u001b[0m\u001b[0;34m\u001b[0m\u001b[0;34m\u001b[0m\u001b[0m\n\u001b[0;32m--> 532\u001b[0;31m             \u001b[0mresult\u001b[0m \u001b[0;34m=\u001b[0m \u001b[0mself\u001b[0m\u001b[0;34m.\u001b[0m\u001b[0mforward\u001b[0m\u001b[0;34m(\u001b[0m\u001b[0;34m*\u001b[0m\u001b[0minput\u001b[0m\u001b[0;34m,\u001b[0m \u001b[0;34m**\u001b[0m\u001b[0mkwargs\u001b[0m\u001b[0;34m)\u001b[0m\u001b[0;34m\u001b[0m\u001b[0;34m\u001b[0m\u001b[0m\n\u001b[0m\u001b[1;32m    533\u001b[0m         \u001b[0;32mfor\u001b[0m \u001b[0mhook\u001b[0m \u001b[0;32min\u001b[0m \u001b[0mself\u001b[0m\u001b[0;34m.\u001b[0m\u001b[0m_forward_hooks\u001b[0m\u001b[0;34m.\u001b[0m\u001b[0mvalues\u001b[0m\u001b[0;34m(\u001b[0m\u001b[0;34m)\u001b[0m\u001b[0;34m:\u001b[0m\u001b[0;34m\u001b[0m\u001b[0;34m\u001b[0m\u001b[0m\n\u001b[1;32m    534\u001b[0m             \u001b[0mhook_result\u001b[0m \u001b[0;34m=\u001b[0m \u001b[0mhook\u001b[0m\u001b[0;34m(\u001b[0m\u001b[0mself\u001b[0m\u001b[0;34m,\u001b[0m \u001b[0minput\u001b[0m\u001b[0;34m,\u001b[0m \u001b[0mresult\u001b[0m\u001b[0;34m)\u001b[0m\u001b[0;34m\u001b[0m\u001b[0;34m\u001b[0m\u001b[0m\n",
      "\u001b[0;32m/projects/da_workspace/software/miniconda/envs/pyro/lib/python3.7/site-packages/pyro/infer/predictive.py\u001b[0m in \u001b[0;36mforward\u001b[0;34m(self, *args, **kwargs)\u001b[0m\n\u001b[1;32m    199\u001b[0m                                             parallel=self.parallel, model_args=args, model_kwargs=kwargs)\n\u001b[1;32m    200\u001b[0m         return _predictive(self.model, posterior_samples, self.num_samples, return_sites=return_sites,\n\u001b[0;32m--> 201\u001b[0;31m                            parallel=self.parallel, model_args=args, model_kwargs=kwargs)\n\u001b[0m\u001b[1;32m    202\u001b[0m \u001b[0;34m\u001b[0m\u001b[0m\n\u001b[1;32m    203\u001b[0m     \u001b[0;32mdef\u001b[0m \u001b[0mget_samples\u001b[0m\u001b[0;34m(\u001b[0m\u001b[0mself\u001b[0m\u001b[0;34m,\u001b[0m \u001b[0;34m*\u001b[0m\u001b[0margs\u001b[0m\u001b[0;34m,\u001b[0m \u001b[0;34m**\u001b[0m\u001b[0mkwargs\u001b[0m\u001b[0;34m)\u001b[0m\u001b[0;34m:\u001b[0m\u001b[0;34m\u001b[0m\u001b[0;34m\u001b[0m\u001b[0m\n",
      "\u001b[0;32m/projects/da_workspace/software/miniconda/envs/pyro/lib/python3.7/site-packages/pyro/infer/predictive.py\u001b[0m in \u001b[0;36m_predictive\u001b[0;34m(model, posterior_samples, num_samples, return_sites, return_trace, parallel, model_args, model_kwargs)\u001b[0m\n\u001b[1;32m     90\u001b[0m     \u001b[0;32mif\u001b[0m \u001b[0;32mnot\u001b[0m \u001b[0mparallel\u001b[0m\u001b[0;34m:\u001b[0m\u001b[0;34m\u001b[0m\u001b[0;34m\u001b[0m\u001b[0m\n\u001b[1;32m     91\u001b[0m         return _predictive_sequential(model, posterior_samples, model_args, model_kwargs, num_samples,\n\u001b[0;32m---> 92\u001b[0;31m                                       return_site_shapes, return_trace=False)\n\u001b[0m\u001b[1;32m     93\u001b[0m \u001b[0;34m\u001b[0m\u001b[0m\n\u001b[1;32m     94\u001b[0m     \u001b[0mtrace\u001b[0m \u001b[0;34m=\u001b[0m \u001b[0mpoutine\u001b[0m\u001b[0;34m.\u001b[0m\u001b[0mtrace\u001b[0m\u001b[0;34m(\u001b[0m\u001b[0mpoutine\u001b[0m\u001b[0;34m.\u001b[0m\u001b[0mcondition\u001b[0m\u001b[0;34m(\u001b[0m\u001b[0mvectorize\u001b[0m\u001b[0;34m(\u001b[0m\u001b[0mmodel\u001b[0m\u001b[0;34m)\u001b[0m\u001b[0;34m,\u001b[0m \u001b[0mreshaped_samples\u001b[0m\u001b[0;34m)\u001b[0m\u001b[0;34m)\u001b[0m\u001b[0;31m\\\u001b[0m\u001b[0;34m\u001b[0m\u001b[0;34m\u001b[0m\u001b[0m\n",
      "\u001b[0;32m/projects/da_workspace/software/miniconda/envs/pyro/lib/python3.7/site-packages/pyro/infer/predictive.py\u001b[0m in \u001b[0;36m_predictive_sequential\u001b[0;34m(model, posterior_samples, model_args, model_kwargs, num_samples, return_site_shapes, return_trace)\u001b[0m\n\u001b[1;32m     46\u001b[0m     \u001b[0;32melse\u001b[0m\u001b[0;34m:\u001b[0m\u001b[0;34m\u001b[0m\u001b[0;34m\u001b[0m\u001b[0m\n\u001b[1;32m     47\u001b[0m         return {site: torch.stack([s[site] for s in collected]).reshape(shape)\n\u001b[0;32m---> 48\u001b[0;31m                 for site, shape in return_site_shapes.items()}\n\u001b[0m\u001b[1;32m     49\u001b[0m \u001b[0;34m\u001b[0m\u001b[0m\n\u001b[1;32m     50\u001b[0m \u001b[0;34m\u001b[0m\u001b[0m\n",
      "\u001b[0;32m/projects/da_workspace/software/miniconda/envs/pyro/lib/python3.7/site-packages/pyro/infer/predictive.py\u001b[0m in \u001b[0;36m<dictcomp>\u001b[0;34m(.0)\u001b[0m\n\u001b[1;32m     46\u001b[0m     \u001b[0;32melse\u001b[0m\u001b[0;34m:\u001b[0m\u001b[0;34m\u001b[0m\u001b[0;34m\u001b[0m\u001b[0m\n\u001b[1;32m     47\u001b[0m         return {site: torch.stack([s[site] for s in collected]).reshape(shape)\n\u001b[0;32m---> 48\u001b[0;31m                 for site, shape in return_site_shapes.items()}\n\u001b[0m\u001b[1;32m     49\u001b[0m \u001b[0;34m\u001b[0m\u001b[0m\n\u001b[1;32m     50\u001b[0m \u001b[0;34m\u001b[0m\u001b[0m\n",
      "\u001b[0;31mTypeError\u001b[0m: expected Tensor as element 0 in argument 0, but got NoneType"
     ]
    }
   ],
   "source": [
    "from pyro.infer import Predictive\n",
    "\n",
    "def summary(samples):\n",
    "    site_stats = {}\n",
    "    for k, v in samples.items():\n",
    "        site_stats[k] = {\n",
    "            \"mean\": torch.mean(v, 0),\n",
    "            \"std\": torch.std(v, 0),\n",
    "            \"5%\": v.kthvalue(int(len(v) * 0.05), dim=0)[0],\n",
    "            \"95%\": v.kthvalue(int(len(v) * 0.95), dim=0)[0],\n",
    "        }\n",
    "    return site_stats\n",
    "\n",
    "\n",
    "predictive = Predictive(model, guide=guide, num_samples=800, return_sites=(\"linear.weight\", \"obs\", \"_RETURN\"))\n",
    "#                         return_sites=(\"linear.weight\", \"obs\", \"_RETURN\"))\n",
    "samples = predictive(x_data)\n",
    "pred_summary = summary(samples)"
   ]
  },
  {
   "cell_type": "code",
   "execution_count": 50,
   "metadata": {},
   "outputs": [],
   "source": [
    "Predictive?"
   ]
  },
  {
   "cell_type": "code",
   "execution_count": 61,
   "metadata": {},
   "outputs": [
    {
     "data": {
      "text/plain": [
       "{'linear.weight': {'mean': tensor([[[-1.8075, -0.1675,  0.3803]]]),\n",
       "  'std': tensor([[[0.1130, 0.0405, 0.0769]]]),\n",
       "  '5%': tensor([[[-1.9962, -0.2373,  0.2491]]]),\n",
       "  '95%': tensor([[[-1.6246, -0.1009,  0.5033]]])},\n",
       " 'obs': {'mean': tensor([7.5515, 8.6131, 9.0630, 9.0313, 8.6907, 9.1770, 9.1255, 8.5846, 8.9526,\n",
       "          7.8199, 9.0697, 7.4158, 7.4236, 9.1705, 8.9737, 9.1311, 9.2097, 8.8266,\n",
       "          9.0559, 9.0988, 9.0398, 9.0839, 9.0356, 7.4374, 7.4306, 9.0660, 8.3811,\n",
       "          8.7784, 8.8728, 7.4258, 7.5170, 7.5360, 7.4662, 8.9876, 8.0897, 7.9026,\n",
       "          8.8208, 8.7402, 9.0126, 9.1210, 7.8961, 9.1877, 9.1969, 8.9574, 7.5231,\n",
       "          8.9466, 7.5362, 7.9735, 8.9062, 9.2104, 7.7130, 9.1207, 8.9485, 8.9244,\n",
       "          7.4546, 9.0832, 8.5446, 7.4164, 7.5114, 7.4721, 7.4788, 7.5148, 8.6806,\n",
       "          8.8128, 8.8624, 9.1933, 8.7760, 8.8107, 8.9184, 8.8201, 9.1228, 9.0041,\n",
       "          9.0176, 9.1112, 8.8418, 8.9049, 8.9148, 8.7082, 8.8108, 8.9746, 8.7962,\n",
       "          9.0935, 7.5583, 8.4547, 9.0491, 9.1705, 8.8707, 9.1749, 8.7584, 8.4304,\n",
       "          8.8239, 9.0616, 8.7204, 9.1406, 9.0909, 9.1685, 9.0608, 7.9433, 9.0974,\n",
       "          7.6734, 8.8906, 8.7502, 7.4216, 8.9580, 9.0613, 7.4771, 7.4216, 7.5832,\n",
       "          7.5844, 9.0120, 7.5836, 8.9167, 7.3551, 7.4772, 9.0760, 9.2470, 8.7858,\n",
       "          8.3068, 8.8398, 8.9927, 8.8779, 8.9551, 8.9772, 8.8440, 8.9238, 9.0799,\n",
       "          8.9612, 8.9798, 9.1896, 8.8226, 8.9521, 9.0402, 8.1194, 9.0011, 7.4789,\n",
       "          7.4319, 9.1768, 8.9139, 7.4974, 8.9267, 8.9594, 8.7502, 9.0711, 8.0083,\n",
       "          8.4390, 9.0105, 7.4079, 7.4355, 8.9594, 8.3006, 9.1651, 9.0366, 9.0884,\n",
       "          7.5639, 8.7904, 7.5500, 7.5423, 9.1042, 9.0386, 8.9711, 9.0949, 8.6515,\n",
       "          9.1088, 8.8150, 8.8904, 8.8746, 8.7774, 7.7595, 7.5395, 7.6262]),\n",
       "  'std': tensor([0.9755, 0.9823, 0.9523, 0.9567, 0.9772, 0.9380, 0.9529, 0.9683, 0.9844,\n",
       "          1.0055, 0.9859, 1.0017, 0.9874, 0.9772, 0.9431, 0.9708, 0.9574, 0.9303,\n",
       "          0.9915, 1.0161, 1.0069, 0.9510, 1.0031, 0.9782, 0.9572, 0.9749, 1.0045,\n",
       "          0.9620, 0.9699, 0.9310, 0.9703, 0.9713, 0.9388, 0.9443, 0.9944, 0.9889,\n",
       "          0.9737, 0.9798, 0.9626, 0.9406, 1.0491, 0.9439, 0.9659, 0.9633, 1.0073,\n",
       "          0.9513, 0.9985, 1.0075, 0.9654, 0.9818, 0.9815, 0.9827, 0.9676, 0.9682,\n",
       "          0.9993, 0.9664, 0.9720, 0.9954, 1.0241, 0.9924, 1.0051, 0.9705, 0.9427,\n",
       "          0.9957, 1.0041, 0.9372, 0.9688, 0.9382, 0.9563, 0.9587, 1.0070, 0.9704,\n",
       "          0.9676, 0.9220, 0.9668, 0.9873, 0.9939, 0.9820, 0.9825, 0.9918, 0.9613,\n",
       "          0.9564, 1.0034, 0.9922, 0.9738, 0.9759, 0.9318, 0.9859, 0.9239, 0.9699,\n",
       "          0.9652, 0.9520, 1.0827, 1.0351, 0.9983, 0.9614, 0.9744, 1.0487, 0.9572,\n",
       "          0.9307, 0.9255, 0.9897, 0.9643, 0.9478, 0.9697, 0.9924, 0.9608, 0.9589,\n",
       "          0.9705, 0.9360, 1.0067, 0.9820, 0.9614, 0.9531, 1.0090, 0.9309, 0.9501,\n",
       "          0.9986, 0.9827, 0.9550, 0.9733, 0.9975, 0.9861, 0.9916, 0.9628, 0.9925,\n",
       "          0.9614, 0.9954, 0.9608, 0.9842, 0.9801, 0.9656, 1.0678, 0.9659, 0.9617,\n",
       "          0.9563, 0.9743, 0.9839, 0.9683, 0.9244, 0.9296, 0.9813, 0.9990, 1.0019,\n",
       "          1.1215, 0.9826, 0.9639, 0.9659, 0.9436, 0.9984, 0.9864, 0.9246, 0.9933,\n",
       "          1.0162, 0.9791, 0.9635, 0.9748, 0.9771, 0.9710, 0.9966, 0.9886, 0.9465,\n",
       "          0.9363, 0.9417, 0.9766, 0.9944, 0.9455, 0.9877, 0.9771, 0.9541]),\n",
       "  '5%': tensor([5.9476, 7.0305, 7.5383, 7.4906, 7.0817, 7.6824, 7.5618, 6.9900, 7.3257,\n",
       "          6.1067, 7.4508, 5.8390, 5.8597, 7.5124, 7.3833, 7.5018, 7.6948, 7.2852,\n",
       "          7.4688, 7.3815, 7.4143, 7.5775, 7.3551, 5.7844, 5.8476, 7.4671, 6.7757,\n",
       "          7.1727, 7.2849, 5.9966, 5.9623, 5.8741, 5.8677, 7.4105, 6.4444, 6.1849,\n",
       "          7.3451, 7.1358, 7.4610, 7.6342, 6.1184, 7.6576, 7.6304, 7.2736, 5.8576,\n",
       "          7.3532, 5.8984, 6.4485, 7.3823, 7.5751, 6.1308, 7.5736, 7.3736, 7.3772,\n",
       "          5.8050, 7.4226, 7.0020, 5.8070, 5.8501, 5.8623, 5.8377, 5.8954, 7.0607,\n",
       "          7.2464, 7.0987, 7.6687, 7.1251, 7.2118, 7.3772, 7.1141, 7.3664, 7.3812,\n",
       "          7.5315, 7.5473, 7.2615, 7.3479, 7.2309, 7.1708, 7.1728, 7.3114, 7.2598,\n",
       "          7.6310, 6.0102, 6.8837, 7.5024, 7.6667, 7.4499, 7.4626, 7.2885, 6.8407,\n",
       "          7.2055, 7.5468, 6.9680, 7.3990, 7.4033, 7.6334, 7.4612, 6.2974, 7.5162,\n",
       "          6.2231, 7.4289, 7.1106, 5.7921, 7.4457, 7.4452, 5.8717, 5.8551, 6.1046,\n",
       "          5.9727, 7.5556, 5.9734, 7.2659, 5.8382, 5.9354, 7.4864, 7.6757, 7.2150,\n",
       "          6.6183, 7.1944, 7.4418, 7.3638, 7.3430, 7.3526, 7.2947, 7.3237, 7.4243,\n",
       "          7.4627, 7.3532, 7.6048, 7.2094, 7.3111, 7.4157, 6.4009, 7.3561, 5.8774,\n",
       "          5.8330, 7.5225, 7.2536, 5.8922, 7.4219, 7.4712, 7.0939, 7.4058, 6.3558,\n",
       "          6.6133, 7.3382, 5.7972, 5.8357, 7.4157, 6.6076, 7.4829, 7.5431, 7.5903,\n",
       "          5.7631, 7.2525, 5.8652, 5.8747, 7.4135, 7.3730, 7.2746, 7.3768, 7.1407,\n",
       "          7.5421, 7.2265, 7.2598, 7.2283, 7.2413, 6.0611, 5.9756, 6.0041]),\n",
       "  '95%': tensor([ 9.1370, 10.2364, 10.5873, 10.6672, 10.2531, 10.7702, 10.6926, 10.1859,\n",
       "          10.5123,  9.4440, 10.6175,  8.9663,  9.1204, 10.7633, 10.5640, 10.6747,\n",
       "          10.7574, 10.3799, 10.6936, 10.7277, 10.6767, 10.6435, 10.6758,  9.0465,\n",
       "           9.0124, 10.6350,  9.9750, 10.2882, 10.4677,  8.8954,  9.1320,  9.0614,\n",
       "           8.9753, 10.6179,  9.7125,  9.5847, 10.4520, 10.4172, 10.5869, 10.6969,\n",
       "           9.5870, 10.7892, 10.8729, 10.5481,  9.1673, 10.4496,  9.1235,  9.6315,\n",
       "          10.5764, 10.7771,  9.2774, 10.7279, 10.6074, 10.5051,  9.0527, 10.6827,\n",
       "          10.1081,  9.0216,  9.1986,  9.1236,  9.0321,  9.0776, 10.1450, 10.3926,\n",
       "          10.4254, 10.7880, 10.3735, 10.3700, 10.4408, 10.2931, 10.7527, 10.6565,\n",
       "          10.6066, 10.6317, 10.4261, 10.5343, 10.5773, 10.3117, 10.4013, 10.4603,\n",
       "          10.3475, 10.6869,  9.1967, 10.1018, 10.6884, 10.8204, 10.3993, 10.8827,\n",
       "          10.3035, 10.0211, 10.3405, 10.6391, 10.5726, 10.8145, 10.6411, 10.7913,\n",
       "          10.6781,  9.5904, 10.6614,  9.2553, 10.4660, 10.3381,  9.0055, 10.5243,\n",
       "          10.7314,  9.1705,  8.9843,  9.2222,  9.2425, 10.5998,  9.3077, 10.5465,\n",
       "           8.9035,  8.9960, 10.7575, 10.7439, 10.3568,  9.9845, 10.3690, 10.6066,\n",
       "          10.5284, 10.5631, 10.5119, 10.3690, 10.4972, 10.7101, 10.5950, 10.5910,\n",
       "          10.6873, 10.4847, 10.5087, 10.6374,  9.7877, 10.6032,  9.0555,  8.9695,\n",
       "          10.8054, 10.4484,  9.0452, 10.3892, 10.5098, 10.3303, 10.6795,  9.5219,\n",
       "          10.2716, 10.6588,  9.0948,  9.0097, 10.5612,  9.8657, 10.8454, 10.5494,\n",
       "          10.7778,  9.2789, 10.5126,  9.0317,  9.1257, 10.6719, 10.6536, 10.6714,\n",
       "          10.6776, 10.2823, 10.5662, 10.2571, 10.5234, 10.4697, 10.3388,  9.3513,\n",
       "           9.1583,  9.2023])}}"
      ]
     },
     "execution_count": 61,
     "metadata": {},
     "output_type": "execute_result"
    }
   ],
   "source": [
    "pred_summary"
   ]
  },
  {
   "cell_type": "code",
   "execution_count": null,
   "metadata": {},
   "outputs": [],
   "source": []
  },
  {
   "cell_type": "code",
   "execution_count": null,
   "metadata": {},
   "outputs": [],
   "source": []
  },
  {
   "cell_type": "code",
   "execution_count": null,
   "metadata": {},
   "outputs": [],
   "source": []
  }
 ],
 "metadata": {
  "kernelspec": {
   "display_name": "Python 3",
   "language": "python",
   "name": "python3"
  },
  "language_info": {
   "codemirror_mode": {
    "name": "ipython",
    "version": 3
   },
   "file_extension": ".py",
   "mimetype": "text/x-python",
   "name": "python",
   "nbconvert_exporter": "python",
   "pygments_lexer": "ipython3",
   "version": "3.7.6"
  }
 },
 "nbformat": 4,
 "nbformat_minor": 4
}
